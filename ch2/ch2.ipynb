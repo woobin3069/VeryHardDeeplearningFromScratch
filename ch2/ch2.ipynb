{
  "nbformat": 4,
  "nbformat_minor": 0,
  "metadata": {
    "colab": {
      "name": "Untitled38.ipynb",
      "provenance": []
    },
    "kernelspec": {
      "name": "python3",
      "display_name": "Python 3"
    },
    "language_info": {
      "name": "python"
    }
  },
  "cells": [
    {
      "cell_type": "markdown",
      "metadata": {
        "id": "VNRmJmT0LJJ6"
      },
      "source": [
        "# 2.3 퍼셉트론 구현"
      ]
    },
    {
      "cell_type": "markdown",
      "metadata": {
        "id": "x8OmnWTOLpiP"
      },
      "source": [
        "## 2.3.1 간단한 구현"
      ]
    },
    {
      "cell_type": "code",
      "metadata": {
        "id": "oR32ZzdDLIJ_"
      },
      "source": [
        "def AND(x1, x2):\n",
        "    w1, w2, theta = 0.5, 0.5, 0.7\n",
        "    tmp = x1*w1 + x2*w2\n",
        "    if tmp <= theta:\n",
        "        return 0\n",
        "    elif tmp > theta:\n",
        "        return 1"
      ],
      "execution_count": 1,
      "outputs": []
    },
    {
      "cell_type": "code",
      "metadata": {
        "colab": {
          "base_uri": "https://localhost:8080/"
        },
        "id": "pMS9BtFpLrXJ",
        "outputId": "6f903f67-b901-4c86-9418-83892f1fc096"
      },
      "source": [
        "print(AND(0, 0)) \n",
        "print(AND(1, 0)) \n",
        "print(AND(0, 1)) \n",
        "print(AND(1, 1)) "
      ],
      "execution_count": 2,
      "outputs": [
        {
          "output_type": "stream",
          "text": [
            "0\n",
            "0\n",
            "0\n",
            "1\n"
          ],
          "name": "stdout"
        }
      ]
    },
    {
      "cell_type": "markdown",
      "metadata": {
        "id": "oO34MKePLzDb"
      },
      "source": [
        "## 2.3.2 가중치와 편향 도입"
      ]
    },
    {
      "cell_type": "code",
      "metadata": {
        "colab": {
          "base_uri": "https://localhost:8080/"
        },
        "id": "cuqX3BR-Lv39",
        "outputId": "8a69f1de-66da-48f8-b77e-b41c52f01bb5"
      },
      "source": [
        "import numpy as np\n",
        "x = np.array([0, 1])\n",
        "w = np.array([0.5, 0.5])\n",
        "b = -0.7               \n",
        "w*x"
      ],
      "execution_count": 3,
      "outputs": [
        {
          "output_type": "execute_result",
          "data": {
            "text/plain": [
              "array([0. , 0.5])"
            ]
          },
          "metadata": {
            "tags": []
          },
          "execution_count": 3
        }
      ]
    },
    {
      "cell_type": "code",
      "metadata": {
        "colab": {
          "base_uri": "https://localhost:8080/"
        },
        "id": "4GWfgA1mL3EO",
        "outputId": "5baf119f-3541-469a-8519-fbbab7cd6da7"
      },
      "source": [
        "np.sum(w*x)"
      ],
      "execution_count": 4,
      "outputs": [
        {
          "output_type": "execute_result",
          "data": {
            "text/plain": [
              "0.5"
            ]
          },
          "metadata": {
            "tags": []
          },
          "execution_count": 4
        }
      ]
    },
    {
      "cell_type": "code",
      "metadata": {
        "colab": {
          "base_uri": "https://localhost:8080/"
        },
        "id": "d8OnfDIVL42W",
        "outputId": "8d36ac97-bfb1-4f93-f1c3-3ad377427da0"
      },
      "source": [
        "np.sum(w*x) + b"
      ],
      "execution_count": 5,
      "outputs": [
        {
          "output_type": "execute_result",
          "data": {
            "text/plain": [
              "-0.19999999999999996"
            ]
          },
          "metadata": {
            "tags": []
          },
          "execution_count": 5
        }
      ]
    },
    {
      "cell_type": "markdown",
      "metadata": {
        "id": "WKhdiWn2L_yi"
      },
      "source": [
        "## 2.3.3 가중치와 편향 구현하기"
      ]
    },
    {
      "cell_type": "code",
      "metadata": {
        "id": "irywl5RwL6yq"
      },
      "source": [
        "def AND(x1, x2):\n",
        "    x = np.array([x1, x2])\n",
        "    w = np.array([0.5, 0.5])\n",
        "    b = -0.7\n",
        "    tmp = np.sum(w*x) + b\n",
        "    if tmp <= 0:\n",
        "        return 0\n",
        "    else:\n",
        "        return 1"
      ],
      "execution_count": 6,
      "outputs": []
    },
    {
      "cell_type": "code",
      "metadata": {
        "id": "0ymMlEm2MBsf"
      },
      "source": [
        "def NAND(x1, x2):\n",
        "    x = np.array([x1, x2])\n",
        "    w = np.array([-0.5, -0.5])\n",
        "    b = 0.7\n",
        "    tmp = np.sum(w*x) + b\n",
        "    if tmp <= 0:\n",
        "        return 0\n",
        "    else:\n",
        "        return 1\n"
      ],
      "execution_count": 7,
      "outputs": []
    },
    {
      "cell_type": "code",
      "metadata": {
        "id": "X0Yilp0ZMEw8"
      },
      "source": [
        "def OR(x1, x2):\n",
        "    x = np.array([x1, x2])\n",
        "    w = np.array([0.5, 0.5])\n",
        "    b = -0.2\n",
        "    tmp = np.sum(w*x) + b\n",
        "    if tmp <= 0:\n",
        "        return 0\n",
        "    else:\n",
        "        return 1"
      ],
      "execution_count": 8,
      "outputs": []
    },
    {
      "cell_type": "markdown",
      "metadata": {
        "id": "NBA3kCAWMJX4"
      },
      "source": [
        "# 2.4 퍼셉트론의 한계"
      ]
    },
    {
      "cell_type": "markdown",
      "metadata": {
        "id": "iER5KcgCMM81"
      },
      "source": [
        "## 2.4.1 XOR 게이트"
      ]
    },
    {
      "cell_type": "code",
      "metadata": {
        "colab": {
          "base_uri": "https://localhost:8080/",
          "height": 279
        },
        "id": "DyuQcr1_MGsa",
        "outputId": "afc7984a-3005-4189-f44e-ba4356fb6627"
      },
      "source": [
        "import numpy as np\n",
        "import matplotlib.pyplot as plt\n",
        "import matplotlib\n",
        "\n",
        "x1 = np.arange(-1, 3, 0.1)\n",
        "x2 = -x1 + 0.5\n",
        "\n",
        "plt.axvline(x=0, color = 'b') \n",
        "plt.axhline(y=0, color = 'b') \n",
        "\n",
        "plt.plot(x1, x2, label=\"or\")\n",
        "plt.xlabel(\"X1\")\n",
        "plt.ylabel(\"X2\")\n",
        "plt.legend()\n",
        "\n",
        "plt.fill_between(x1, x2, -3, color='grey', alpha=0.5)\n",
        "\n",
        "plt.scatter([0],[0],marker='o',color='r')\n",
        "plt.scatter([1,0,1],[0,1,1],marker='^',color='r')\n",
        "plt.show()"
      ],
      "execution_count": 11,
      "outputs": [
        {
          "output_type": "display_data",
          "data": {
            "image/png": "[encoded data removed]",
            "text/plain": [
              "<Figure size 432x288 with 1 Axes>"
            ]
          },
          "metadata": {
            "tags": [],
            "needs_background": "light"
          }
        }
      ]
    },
    {
      "cell_type": "code",
      "metadata": {
        "colab": {
          "base_uri": "https://localhost:8080/",
          "height": 279
        },
        "id": "oqN3sOLhMSs4",
        "outputId": "ed9b4fc4-60b2-44fd-875f-a60d3f74cdd8"
      },
      "source": [
        "x1 = np.arange(-1, 3, 0.1)\n",
        "x2 = -x1 + 0.5\n",
        "\n",
        "plt.axvline(x=0, color = 'b')\n",
        "plt.axhline(y=0, color = 'b')\n",
        "plt.xlabel(\"X1\")\n",
        "plt.ylabel(\"X2\") \n",
        "\n",
        "plt.scatter([0,1],[0,1],marker='o',color='r')\n",
        "plt.scatter([1,0],[0,1],marker='^',color='r')\n",
        "plt.show()"
      ],
      "execution_count": 12,
      "outputs": [
        {
          "output_type": "display_data",
          "data": {
            "image/png": "[encoded data removed]",
            "text/plain": [
              "<Figure size 432x288 with 1 Axes>"
            ]
          },
          "metadata": {
            "tags": [],
            "needs_background": "light"
          }
        }
      ]
    }
  ]
}
