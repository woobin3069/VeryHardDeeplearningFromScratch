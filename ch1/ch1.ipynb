{
  "nbformat": 4,
  "nbformat_minor": 0,
  "metadata": {
    "colab": {
      "name": "Untitled37.ipynb",
      "provenance": []
    },
    "kernelspec": {
      "name": "python3",
      "display_name": "Python 3"
    },
    "language_info": {
      "name": "python"
    }
  },
  "cells": [
    {
      "cell_type": "markdown",
      "metadata": {
        "id": "Aoj44B9oFpd-"
      },
      "source": [
        "# 1.3 파이썬 인터프리터"
      ]
    },
    {
      "cell_type": "code",
      "metadata": {
        "colab": {
          "base_uri": "https://localhost:8080/"
        },
        "id": "CNeNP6DwFLQy",
        "outputId": "7cf028cb-1cf2-4bd7-fb06-3a2942be7f03"
      },
      "source": [
        "!python --version"
      ],
      "execution_count": 2,
      "outputs": [
        {
          "output_type": "stream",
          "text": [
            "Python 3.7.10\n"
          ],
          "name": "stdout"
        }
      ]
    },
    {
      "cell_type": "markdown",
      "metadata": {
        "id": "MsTsetNPF4ZA"
      },
      "source": [
        "# 1.4 파이썬 스크립트 타입"
      ]
    },
    {
      "cell_type": "markdown",
      "metadata": {
        "id": "Rk1a0F07F9xj"
      },
      "source": [
        "## 1.4.1 파일로 저장하기"
      ]
    },
    {
      "cell_type": "code",
      "metadata": {
        "colab": {
          "base_uri": "https://localhost:8080/"
        },
        "id": "1F2LzYgWGKb0",
        "outputId": "844cf3a8-20e8-4ea4-dbb8-b3187fac5028"
      },
      "source": [
        "print(\"I'm hungry!\")"
      ],
      "execution_count": 3,
      "outputs": [
        {
          "output_type": "stream",
          "text": [
            "I'm hungry!\n"
          ],
          "name": "stdout"
        }
      ]
    },
    {
      "cell_type": "code",
      "metadata": {
        "id": "wBxyjTlHGMga"
      },
      "source": [
        "!cd ~/ch1\n",
        "!python hungry.py"
      ],
      "execution_count": null,
      "outputs": []
    },
    {
      "cell_type": "markdown",
      "metadata": {
        "id": "fSbBZvDxGdhz"
      },
      "source": [
        "## 1.4.1 클래스"
      ]
    },
    {
      "cell_type": "code",
      "metadata": {
        "colab": {
          "base_uri": "https://localhost:8080/"
        },
        "id": "FhpyYjEzFdzl",
        "outputId": "ef2a1238-76e0-4e85-d806-d8b3b927a658"
      },
      "source": [
        "class Man:\n",
        "    def __init__(self, name):\n",
        "        self.name = name\n",
        "        print(\"Initialized!\")\n",
        "        \n",
        "    def hello(self):\n",
        "        print(\"Hello \" + self.name + \"!\")\n",
        "    \n",
        "    def goodbye(self):\n",
        "        print(\"Good-bye \" + self.name + \"!\")\n",
        "        \n",
        "m = Man(\"David\")\n",
        "m.hello()\n",
        "m.goodbye()"
      ],
      "execution_count": 5,
      "outputs": [
        {
          "output_type": "stream",
          "text": [
            "Initialized!\n",
            "Hello David!\n",
            "Good-bye David!\n"
          ],
          "name": "stdout"
        }
      ]
    },
    {
      "cell_type": "markdown",
      "metadata": {
        "id": "tSqt6Ly3GjOz"
      },
      "source": [
        "# 1.5 넘파이"
      ]
    },
    {
      "cell_type": "code",
      "metadata": {
        "id": "RyJ6fkQ_Gf7W"
      },
      "source": [
        "import numpy as np"
      ],
      "execution_count": 6,
      "outputs": []
    },
    {
      "cell_type": "markdown",
      "metadata": {
        "id": "1sUUDh0iGyUC"
      },
      "source": [
        "## 1.5.2 넘파이 배열 생성하기"
      ]
    },
    {
      "cell_type": "code",
      "metadata": {
        "colab": {
          "base_uri": "https://localhost:8080/"
        },
        "id": "aXJEWyTcGwHB",
        "outputId": "6da35911-66ae-4d01-e4f5-a5125a13b4ef"
      },
      "source": [
        "x = np.array([1.0, 2.0, 3.0])\n",
        "print(x)"
      ],
      "execution_count": 7,
      "outputs": [
        {
          "output_type": "stream",
          "text": [
            "[1. 2. 3.]\n"
          ],
          "name": "stdout"
        }
      ]
    },
    {
      "cell_type": "code",
      "metadata": {
        "colab": {
          "base_uri": "https://localhost:8080/"
        },
        "id": "dZaWxsjiG0KC",
        "outputId": "fedc9b75-035f-4495-bbb1-26a9f0b1e23e"
      },
      "source": [
        "type(x)"
      ],
      "execution_count": 8,
      "outputs": [
        {
          "output_type": "execute_result",
          "data": {
            "text/plain": [
              "numpy.ndarray"
            ]
          },
          "metadata": {
            "tags": []
          },
          "execution_count": 8
        }
      ]
    },
    {
      "cell_type": "markdown",
      "metadata": {
        "id": "AbADmc8EG3eE"
      },
      "source": [
        "## 1.5.3 넘파이의 산술 연산"
      ]
    },
    {
      "cell_type": "code",
      "metadata": {
        "colab": {
          "base_uri": "https://localhost:8080/"
        },
        "id": "mMpI6FOIG1SW",
        "outputId": "868fed18-50b8-4a90-c28a-cde69aa46a7a"
      },
      "source": [
        "x = np.array([1.0, 2.0, 3.0])\n",
        "y = np.array([2.0, 4.0, 6.0])\n",
        "x + y "
      ],
      "execution_count": 9,
      "outputs": [
        {
          "output_type": "execute_result",
          "data": {
            "text/plain": [
              "array([3., 6., 9.])"
            ]
          },
          "metadata": {
            "tags": []
          },
          "execution_count": 9
        }
      ]
    },
    {
      "cell_type": "code",
      "metadata": {
        "colab": {
          "base_uri": "https://localhost:8080/"
        },
        "id": "iwU_VmLGG6Zo",
        "outputId": "b53cdcfd-6608-42f8-afca-1de4c6587e9d"
      },
      "source": [
        "x - y"
      ],
      "execution_count": 10,
      "outputs": [
        {
          "output_type": "execute_result",
          "data": {
            "text/plain": [
              "array([-1., -2., -3.])"
            ]
          },
          "metadata": {
            "tags": []
          },
          "execution_count": 10
        }
      ]
    },
    {
      "cell_type": "code",
      "metadata": {
        "colab": {
          "base_uri": "https://localhost:8080/"
        },
        "id": "q7bYFhBSG7qR",
        "outputId": "fe452fc8-1550-4f22-aed0-41bfb8efd28e"
      },
      "source": [
        "x * y"
      ],
      "execution_count": 11,
      "outputs": [
        {
          "output_type": "execute_result",
          "data": {
            "text/plain": [
              "array([ 2.,  8., 18.])"
            ]
          },
          "metadata": {
            "tags": []
          },
          "execution_count": 11
        }
      ]
    },
    {
      "cell_type": "code",
      "metadata": {
        "colab": {
          "base_uri": "https://localhost:8080/"
        },
        "id": "mHDleg3wG9P3",
        "outputId": "5a7f3f45-5c83-4bd7-a8da-3341c4ecbfb6"
      },
      "source": [
        "x / y"
      ],
      "execution_count": 12,
      "outputs": [
        {
          "output_type": "execute_result",
          "data": {
            "text/plain": [
              "array([0.5, 0.5, 0.5])"
            ]
          },
          "metadata": {
            "tags": []
          },
          "execution_count": 12
        }
      ]
    },
    {
      "cell_type": "code",
      "metadata": {
        "colab": {
          "base_uri": "https://localhost:8080/"
        },
        "id": "fsGKWG5kG-iw",
        "outputId": "8a8cac80-0cdf-4d9f-d011-95f0f90afcc5"
      },
      "source": [
        "x = np.array([1.0, 2.0, 3.0])\n",
        "x / 2.0"
      ],
      "execution_count": 13,
      "outputs": [
        {
          "output_type": "execute_result",
          "data": {
            "text/plain": [
              "array([0.5, 1. , 1.5])"
            ]
          },
          "metadata": {
            "tags": []
          },
          "execution_count": 13
        }
      ]
    },
    {
      "cell_type": "markdown",
      "metadata": {
        "id": "TrEfEfINHAos"
      },
      "source": [
        "## 1.5.4 넘파이의 N차원 배열"
      ]
    },
    {
      "cell_type": "code",
      "metadata": {
        "colab": {
          "base_uri": "https://localhost:8080/"
        },
        "id": "kuKxxFAFHANR",
        "outputId": "fd7b6904-f690-48b2-a45c-00baf7ef80e1"
      },
      "source": [
        "A = np.array([[1, 2], [3, 4]])\n",
        "print(A)"
      ],
      "execution_count": 14,
      "outputs": [
        {
          "output_type": "stream",
          "text": [
            "[[1 2]\n",
            " [3 4]]\n"
          ],
          "name": "stdout"
        }
      ]
    },
    {
      "cell_type": "code",
      "metadata": {
        "colab": {
          "base_uri": "https://localhost:8080/"
        },
        "id": "1UnDGlZ8HEjG",
        "outputId": "12519627-6ab4-4f2b-c21f-3320dd2932a3"
      },
      "source": [
        "A.shape"
      ],
      "execution_count": 15,
      "outputs": [
        {
          "output_type": "execute_result",
          "data": {
            "text/plain": [
              "(2, 2)"
            ]
          },
          "metadata": {
            "tags": []
          },
          "execution_count": 15
        }
      ]
    },
    {
      "cell_type": "code",
      "metadata": {
        "colab": {
          "base_uri": "https://localhost:8080/"
        },
        "id": "_AJ8lqZvHGow",
        "outputId": "ef16bbec-f948-4dba-df81-db2731dd398a"
      },
      "source": [
        "A.dtype"
      ],
      "execution_count": 16,
      "outputs": [
        {
          "output_type": "execute_result",
          "data": {
            "text/plain": [
              "dtype('int64')"
            ]
          },
          "metadata": {
            "tags": []
          },
          "execution_count": 16
        }
      ]
    },
    {
      "cell_type": "code",
      "metadata": {
        "colab": {
          "base_uri": "https://localhost:8080/"
        },
        "id": "f8rNoqpZHIHB",
        "outputId": "ffa1c39f-5b30-4b72-daba-c2c81d4141b2"
      },
      "source": [
        "B = np.array([[3, 0], [0, 6]])\n",
        "A + B"
      ],
      "execution_count": 17,
      "outputs": [
        {
          "output_type": "execute_result",
          "data": {
            "text/plain": [
              "array([[ 4,  2],\n",
              "       [ 3, 10]])"
            ]
          },
          "metadata": {
            "tags": []
          },
          "execution_count": 17
        }
      ]
    },
    {
      "cell_type": "code",
      "metadata": {
        "colab": {
          "base_uri": "https://localhost:8080/"
        },
        "id": "H2wg-ppvHJph",
        "outputId": "aeb26a9e-be56-41cf-8915-0a805d845075"
      },
      "source": [
        "A * B"
      ],
      "execution_count": 18,
      "outputs": [
        {
          "output_type": "execute_result",
          "data": {
            "text/plain": [
              "array([[ 3,  0],\n",
              "       [ 0, 24]])"
            ]
          },
          "metadata": {
            "tags": []
          },
          "execution_count": 18
        }
      ]
    },
    {
      "cell_type": "code",
      "metadata": {
        "colab": {
          "base_uri": "https://localhost:8080/"
        },
        "id": "yaN99UfUHK71",
        "outputId": "ac73cb60-164a-4a40-a802-90d72e463d10"
      },
      "source": [
        "print(A)"
      ],
      "execution_count": 19,
      "outputs": [
        {
          "output_type": "stream",
          "text": [
            "[[1 2]\n",
            " [3 4]]\n"
          ],
          "name": "stdout"
        }
      ]
    },
    {
      "cell_type": "code",
      "metadata": {
        "colab": {
          "base_uri": "https://localhost:8080/"
        },
        "id": "Il-Ix8HMHMlv",
        "outputId": "dfc2c143-4aaf-4de0-818d-cf6eb2473e19"
      },
      "source": [
        "A * 10"
      ],
      "execution_count": 20,
      "outputs": [
        {
          "output_type": "execute_result",
          "data": {
            "text/plain": [
              "array([[10, 20],\n",
              "       [30, 40]])"
            ]
          },
          "metadata": {
            "tags": []
          },
          "execution_count": 20
        }
      ]
    },
    {
      "cell_type": "markdown",
      "metadata": {
        "id": "HgTsARQSHR8u"
      },
      "source": [
        "## 1.5.5 브로드캐스트"
      ]
    },
    {
      "cell_type": "code",
      "metadata": {
        "colab": {
          "base_uri": "https://localhost:8080/"
        },
        "id": "2I40CqqKHOOm",
        "outputId": "adf2a4b7-7bcd-4bbc-b63b-69a39f2abe1e"
      },
      "source": [
        "A = np.array([[1, 2], [3, 4]])\n",
        "B = np.array([10, 20])\n",
        "A * B"
      ],
      "execution_count": 21,
      "outputs": [
        {
          "output_type": "execute_result",
          "data": {
            "text/plain": [
              "array([[10, 40],\n",
              "       [30, 80]])"
            ]
          },
          "metadata": {
            "tags": []
          },
          "execution_count": 21
        }
      ]
    },
    {
      "cell_type": "code",
      "metadata": {
        "colab": {
          "base_uri": "https://localhost:8080/",
          "height": 59
        },
        "id": "wJLFb1QYHYvR",
        "outputId": "ab344d8f-f6a1-4068-a999-b79dcd8d6a02"
      },
      "source": [
        "from IPython.display import display, HTML\n",
        "broadcast = HTML(\"\"\"\n",
        "    <div style=\"float: left; \">\n",
        "        <table><tr><td>1</td><td>2</td></tr><td>3</td><td>4</td></tr></table>\n",
        "    </div>\n",
        "    <div style=\"float: left;\"> * </div>\n",
        "    <div style=\"float: left;\"> <table><tr><td>10</td><td>20</td></tr></table> </div>\n",
        "    <div style=\"float: left;\"> = </div>\n",
        "    <div style=\"float: left;\">\n",
        "        <table><tr><td>1</td><td>2</td></tr><td>3</td><td>4</td></tr></table>\n",
        "    </div>\n",
        "    <div style=\"float: left;\"> * </div>\n",
        "    <div style=\"float: left;\">\n",
        "        <table><tr><td>10</td><td>20</font></td></tr><td><font color=\"gray\">10</font></td><td><font color=\"gray\">20</font></td></tr></table>\n",
        "    </div>\n",
        "    <div style=\"float: left;\"> = </div>\n",
        "    <div>\n",
        "            <table><tr><td>10</td><td>40</td></tr><td>30</td><td>80</td></tr></table>\\\n",
        "    </div>\n",
        "    \"\"\"\n",
        ")\n",
        "display(broadcast)"
      ],
      "execution_count": 23,
      "outputs": [
        {
          "output_type": "display_data",
          "data": {
            "text/html": [
              "\n",
              "    <div style=\"float: left; \">\n",
              "        <table><tr><td>1</td><td>2</td></tr><td>3</td><td>4</td></tr></table>\n",
              "    </div>\n",
              "    <div style=\"float: left;\"> * </div>\n",
              "    <div style=\"float: left;\"> <table><tr><td>10</td><td>20</td></tr></table> </div>\n",
              "    <div style=\"float: left;\"> = </div>\n",
              "    <div style=\"float: left;\">\n",
              "        <table><tr><td>1</td><td>2</td></tr><td>3</td><td>4</td></tr></table>\n",
              "    </div>\n",
              "    <div style=\"float: left;\"> * </div>\n",
              "    <div style=\"float: left;\">\n",
              "        <table><tr><td>10</td><td>20</font></td></tr><td><font color=\"gray\">10</font></td><td><font color=\"gray\">20</font></td></tr></table>\n",
              "    </div>\n",
              "    <div style=\"float: left;\"> = </div>\n",
              "    <div>\n",
              "            <table><tr><td>10</td><td>40</td></tr><td>30</td><td>80</td></tr></table>    </div>\n",
              "    "
            ],
            "text/plain": [
              "<IPython.core.display.HTML object>"
            ]
          },
          "metadata": {
            "tags": []
          }
        }
      ]
    },
    {
      "cell_type": "markdown",
      "metadata": {
        "id": "C57WfzKwHgKg"
      },
      "source": [
        "## 1.5.6 원소 접근"
      ]
    },
    {
      "cell_type": "code",
      "metadata": {
        "colab": {
          "base_uri": "https://localhost:8080/"
        },
        "id": "YuthlKnPHavO",
        "outputId": "a0e7b824-bff7-41fe-9850-700595e0a780"
      },
      "source": [
        "X = np.array([[51, 55], [14, 19], [0, 4]])\n",
        "print(X)"
      ],
      "execution_count": 24,
      "outputs": [
        {
          "output_type": "stream",
          "text": [
            "[[51 55]\n",
            " [14 19]\n",
            " [ 0  4]]\n"
          ],
          "name": "stdout"
        }
      ]
    },
    {
      "cell_type": "code",
      "metadata": {
        "colab": {
          "base_uri": "https://localhost:8080/"
        },
        "id": "Ul2pH_i0Hiqr",
        "outputId": "79b29700-cf29-4af3-e17f-a89cc732dccc"
      },
      "source": [
        "X[0]"
      ],
      "execution_count": 25,
      "outputs": [
        {
          "output_type": "execute_result",
          "data": {
            "text/plain": [
              "array([51, 55])"
            ]
          },
          "metadata": {
            "tags": []
          },
          "execution_count": 25
        }
      ]
    },
    {
      "cell_type": "code",
      "metadata": {
        "colab": {
          "base_uri": "https://localhost:8080/"
        },
        "id": "sDoqn7LBHjyy",
        "outputId": "e74074c7-0e7c-463b-8802-f983423b0f05"
      },
      "source": [
        "X[0][1]"
      ],
      "execution_count": 26,
      "outputs": [
        {
          "output_type": "execute_result",
          "data": {
            "text/plain": [
              "55"
            ]
          },
          "metadata": {
            "tags": []
          },
          "execution_count": 26
        }
      ]
    },
    {
      "cell_type": "code",
      "metadata": {
        "colab": {
          "base_uri": "https://localhost:8080/"
        },
        "id": "t2VHvS43HlFT",
        "outputId": "5e4b58f9-3e34-4bd5-a68c-596be8fc74ba"
      },
      "source": [
        "for row in X:\n",
        "    print(row)"
      ],
      "execution_count": 27,
      "outputs": [
        {
          "output_type": "stream",
          "text": [
            "[51 55]\n",
            "[14 19]\n",
            "[0 4]\n"
          ],
          "name": "stdout"
        }
      ]
    },
    {
      "cell_type": "code",
      "metadata": {
        "colab": {
          "base_uri": "https://localhost:8080/"
        },
        "id": "06Ci3hcCHnFo",
        "outputId": "da702f49-78e9-4712-a0d2-4501e62d9480"
      },
      "source": [
        "X = X.flatten()\n",
        "print(X)"
      ],
      "execution_count": 28,
      "outputs": [
        {
          "output_type": "stream",
          "text": [
            "[51 55 14 19  0  4]\n"
          ],
          "name": "stdout"
        }
      ]
    },
    {
      "cell_type": "code",
      "metadata": {
        "colab": {
          "base_uri": "https://localhost:8080/"
        },
        "id": "t9hZU4BhHqUM",
        "outputId": "d3aee68c-d946-41ec-8a42-4f2d6bb3fc09"
      },
      "source": [
        "X[np.array([0,2,4])]"
      ],
      "execution_count": 29,
      "outputs": [
        {
          "output_type": "execute_result",
          "data": {
            "text/plain": [
              "array([51, 14,  0])"
            ]
          },
          "metadata": {
            "tags": []
          },
          "execution_count": 29
        }
      ]
    },
    {
      "cell_type": "code",
      "metadata": {
        "colab": {
          "base_uri": "https://localhost:8080/"
        },
        "id": "vFtUpa2bHsP9",
        "outputId": "732c665c-e8dd-4244-a882-28d308eb0220"
      },
      "source": [
        "X > 15"
      ],
      "execution_count": 30,
      "outputs": [
        {
          "output_type": "execute_result",
          "data": {
            "text/plain": [
              "array([ True,  True, False,  True, False, False])"
            ]
          },
          "metadata": {
            "tags": []
          },
          "execution_count": 30
        }
      ]
    },
    {
      "cell_type": "code",
      "metadata": {
        "colab": {
          "base_uri": "https://localhost:8080/"
        },
        "id": "ARIZECPZHuFV",
        "outputId": "e9e27331-2b8d-4a3e-896d-ab6d5628b7ab"
      },
      "source": [
        "X[X>15]"
      ],
      "execution_count": 31,
      "outputs": [
        {
          "output_type": "execute_result",
          "data": {
            "text/plain": [
              "array([51, 55, 19])"
            ]
          },
          "metadata": {
            "tags": []
          },
          "execution_count": 31
        }
      ]
    },
    {
      "cell_type": "markdown",
      "metadata": {
        "id": "99fiifM0H2Io"
      },
      "source": [
        "# 1.6 matplotplib"
      ]
    },
    {
      "cell_type": "markdown",
      "metadata": {
        "id": "0GJ06KJNH5Hk"
      },
      "source": [
        "## 1.6.1 단순한 그래프 그리기"
      ]
    },
    {
      "cell_type": "code",
      "metadata": {
        "colab": {
          "base_uri": "https://localhost:8080/",
          "height": 265
        },
        "id": "hFMhw1_yHxn0",
        "outputId": "943c347a-bd5e-4710-d52b-542d9812821b"
      },
      "source": [
        "import numpy as np\n",
        "import matplotlib.pyplot as plt\n",
        "\n",
        "x = np.arange(0, 6, 0.1) \n",
        "y = np.sin(x)\n",
        "\n",
        "plt.plot(x, y)\n",
        "plt.show()"
      ],
      "execution_count": 32,
      "outputs": [
        {
          "output_type": "display_data",
          "data": {
            "image/png": "[encoded data removed]",
            "text/plain": [
              "<Figure size 432x288 with 1 Axes>"
            ]
          },
          "metadata": {
            "tags": [],
            "needs_background": "light"
          }
        }
      ]
    },
    {
      "cell_type": "markdown",
      "metadata": {
        "id": "bBEEyCmYINHy"
      },
      "source": [
        "## 1.6.2 pyplot의 기능"
      ]
    },
    {
      "cell_type": "code",
      "metadata": {
        "colab": {
          "base_uri": "https://localhost:8080/",
          "height": 295
        },
        "id": "jwN9DRZ-H-WJ",
        "outputId": "d3dc09b4-38d5-4429-d991-58fff98dd737"
      },
      "source": [
        "import numpy as np\n",
        "import matplotlib.pyplot as plt\n",
        "\n",
        "x = np.arange(0, 6, 0.1) \n",
        "y1 = np.sin(x)\n",
        "y2 = np.cos(x)\n",
        "\n",
        "plt.plot(x, y1, label=\"sin\")\n",
        "plt.plot(x, y2, linestyle=\":\", label=\"cos\")\n",
        "plt.xlabel(\"X\")\n",
        "plt.ylabel(\"y\") \n",
        "plt.title(\"sin & cos\")\n",
        "plt.legend()\n",
        "plt.show()"
      ],
      "execution_count": 36,
      "outputs": [
        {
          "output_type": "display_data",
          "data": {
            "image/png": "[encoded data removed]",
            "text/plain": [
              "<Figure size 432x288 with 1 Axes>"
            ]
          },
          "metadata": {
            "tags": [],
            "needs_background": "light"
          }
        }
      ]
    },
    {
      "cell_type": "markdown",
      "metadata": {
        "id": "qftGzIzRJEWh"
      },
      "source": [
        "## 1.6.3 이미지 표시하기"
      ]
    },
    {
      "cell_type": "code",
      "metadata": {
        "colab": {
          "base_uri": "https://localhost:8080/",
          "height": 269
        },
        "id": "ouUETNfdI6wM",
        "outputId": "8432735c-437c-40a7-db72-14b97a941900"
      },
      "source": [
        "import matplotlib.pyplot as plt\n",
        "from matplotlib.image import imread\n",
        "\n",
        "img = imread('cactus.png') \n",
        "\n",
        "plt.imshow(img)\n",
        "plt.show()"
      ],
      "execution_count": 37,
      "outputs": [
        {
          "output_type": "display_data",
          "data": {
            "image/png": "[encoded data removed]",
            "text/plain": [
              "<Figure size 432x288 with 1 Axes>"
            ]
          },
          "metadata": {
            "tags": [],
            "needs_background": "light"
          }
        }
      ]
    },
    {
      "cell_type": "code",
      "metadata": {
        "id": "ItrB0I0rJjek"
      },
      "source": [
        ""
      ],
      "execution_count": null,
      "outputs": []
    }
  ]
}
